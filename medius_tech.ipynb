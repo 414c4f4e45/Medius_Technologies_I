{
 "cells": [
  {
   "cell_type": "code",
   "execution_count": 1,
   "id": "72d68da2-a827-4ffc-9796-e6951215fe5f",
   "metadata": {},
   "outputs": [],
   "source": [
    "from selenium import webdriver\n",
    "from selenium.webdriver.common.keys import Keys\n",
    "from selenium.webdriver.common.by import By\n",
    "from selenium.webdriver.chrome.options import Options\n",
    "import time"
   ]
  },
  {
   "cell_type": "code",
   "execution_count": 2,
   "id": "77603629-9788-48dc-a53c-cba3ade8b1a4",
   "metadata": {
    "scrolled": true
   },
   "outputs": [],
   "source": [
    "class GoogleFormPage:\n",
    "    def __init__(self, driver):\n",
    "        self.driver = driver\n",
    "        self.url = \"https://docs.google.com/forms/d/e/1FAIpQLSdUCd3UWQ3VOgeg0ZzNeT-xzNawU8AJ7Xidml-w1vhfBcvBWQ/viewform\"\n",
    "\n",
    "    def open(self):\n",
    "        self.driver.get(self.url)\n",
    "\n",
    "    def fill_form(self, name, contact_number, email, address, pin_code, dob, gender):\n",
    "        \n",
    "        width = self.driver.execute_script(\"return Math.max( document.body.scrollWidth, document.body.offsetWidth, document.documentElement.clientWidth, document.documentElement.scrollWidth, document.documentElement.offsetWidth );\")\n",
    "        height = self.driver.execute_script(\"return Math.max( document.body.scrollHeight, document.body.offsetHeight, document.documentElement.clientHeight, document.documentElement.scrollHeight, document.documentElement.offsetHeight );\")\n",
    "        \n",
    "        # Set the window size to match the entire webpage\n",
    "        self.driver.set_window_size(width, height)\n",
    "        \n",
    "        # Find the full page element (usually 'body') and capture the screenshot\n",
    "        full_page = self.driver.find_element(By.TAG_NAME, \"body\")\n",
    "        full_page.screenshot(\"before_filling.png\")\n",
    "        #self.driver.save_screenshot('before_filling.png')\n",
    "        \n",
    "        full_name = self.driver.find_element(By.XPATH, \"//input[@aria-labelledby='i1']\")\n",
    "        contact_number_field = self.driver.find_element(By.XPATH, \"//input[@aria-labelledby='i5']\")\n",
    "        email_field = self.driver.find_element(By.XPATH, \"//input[@aria-labelledby='i9']\")\n",
    "        full_address_field = self.driver.find_element(By.XPATH, \"//textarea[@aria-labelledby='i13']\")\n",
    "        pin_code_field = self.driver.find_element(By.XPATH, \"//input[@aria-labelledby='i17']\")\n",
    "        dob_field = self.driver.find_element(By.XPATH, \"//input[@type='date']\")\n",
    "        gender_field = self.driver.find_element(By.XPATH, \"//input[@aria-labelledby='i26']\")\n",
    "        captcha = self.driver.find_element(By.XPATH, \"//input[@aria-labelledby='i30']\")\n",
    "        \n",
    "        print(\"----------------pass--------------\")\n",
    "        \n",
    "        full_name.send_keys(name)\n",
    "        contact_number_field.send_keys(contact_number)\n",
    "        email_field.send_keys(email)\n",
    "        full_address_field.send_keys(address)\n",
    "        pin_code_field.send_keys(pin_code)\n",
    "        dob_field.send_keys(dob)\n",
    "        gender_field.send_keys(gender)\n",
    "        captcha.send_keys(\"GNFPYC\")\n",
    "\n",
    "        full_page = self.driver.find_element(By.TAG_NAME, \"body\")\n",
    "        full_page.screenshot(\"after_filling.png\")\n",
    "        #self.driver.save_screenshot('after_filling.png')\n",
    "\n",
    "        #time.sleep(3)\n",
    "        submit_button = self.driver.find_element(By.XPATH, \"//div[@aria-label='Submit']\")\n",
    "        submit_button.click()\n",
    "\n",
    "        full_page = self.driver.find_element(By.TAG_NAME, \"body\")\n",
    "        full_page.screenshot(\"after_submitting.png\")\n",
    "        #self.driver.save_screenshot('after_submitting.png')\n",
    "\n"
   ]
  },
  {
   "cell_type": "code",
   "execution_count": 3,
   "id": "4adc9a64-f1bd-406f-88b3-23df44d9e0ef",
   "metadata": {},
   "outputs": [],
   "source": [
    "def test_submit_google_form():\n",
    "    options = Options()\n",
    "    options.add_argument(\"--window-size=1920,1080\")\n",
    "    options.add_argument(\"--start-maximized\")\n",
    "    options.add_argument(\"--headless\")  # Use headless mode for running in the background\n",
    "    options.add_argument(\"--disable-gpu\")\n",
    "    driver = webdriver.Chrome(options=options)\n",
    "    driver.maximize_window()\n",
    "    gform = GoogleFormPage(driver)\n",
    "    gform.open()\n",
    "    #time.sleep(5)\n",
    "    gform.fill_form(\"John Doe\", \"1234567890\", \"john.doe@example.com\", \"123 Main St, City, Country\", \"123456\", \"24-01-1990\", \"Male\")\n",
    "    #time.sleep(2)\n",
    "    driver.quit()"
   ]
  },
  {
   "cell_type": "code",
   "execution_count": 4,
   "id": "64c76d06-e953-4930-86ce-3f028450bbc3",
   "metadata": {},
   "outputs": [
    {
     "name": "stderr",
     "output_type": "stream",
     "text": [
      "Error sending stats to Plausible: error sending request for url (https://plausible.io/api/event)\n"
     ]
    },
    {
     "name": "stdout",
     "output_type": "stream",
     "text": [
      "----------------pass--------------\n"
     ]
    },
    {
     "ename": "ElementNotInteractableException",
     "evalue": "Message: element not interactable\n  (Session info: chrome-headless-shell=126.0.6478.126)\nStacktrace:\n#0 0x5916db8dbc5a <unknown>\n#1 0x5916db5bec71 <unknown>\n#2 0x5916db605418 <unknown>\n#3 0x5916db6037ff <unknown>\n#4 0x5916db62e5c2 <unknown>\n#5 0x5916db5ffad9 <unknown>\n#6 0x5916db62e78e <unknown>\n#7 0x5916db64d303 <unknown>\n#8 0x5916db62e363 <unknown>\n#9 0x5916db5fe247 <unknown>\n#10 0x5916db5feb9e <unknown>\n#11 0x5916db8a222b <unknown>\n#12 0x5916db8a62d1 <unknown>\n#13 0x5916db88dade <unknown>\n#14 0x5916db8a6e32 <unknown>\n#15 0x5916db87277f <unknown>\n#16 0x5916db8cb618 <unknown>\n#17 0x5916db8cb7f0 <unknown>\n#18 0x5916db8dad8c <unknown>\n#19 0x71a497c94ac3 <unknown>\n",
     "output_type": "error",
     "traceback": [
      "\u001b[0;31m---------------------------------------------------------------------------\u001b[0m",
      "\u001b[0;31mElementNotInteractableException\u001b[0m           Traceback (most recent call last)",
      "Cell \u001b[0;32mIn[4], line 2\u001b[0m\n\u001b[1;32m      1\u001b[0m a\u001b[38;5;241m=\u001b[39mtime\u001b[38;5;241m.\u001b[39mtime()\n\u001b[0;32m----> 2\u001b[0m \u001b[43mtest_submit_google_form\u001b[49m\u001b[43m(\u001b[49m\u001b[43m)\u001b[49m\n\u001b[1;32m      3\u001b[0m time\u001b[38;5;241m.\u001b[39mtime()\u001b[38;5;241m-\u001b[39ma\n",
      "Cell \u001b[0;32mIn[3], line 12\u001b[0m, in \u001b[0;36mtest_submit_google_form\u001b[0;34m()\u001b[0m\n\u001b[1;32m     10\u001b[0m gform\u001b[38;5;241m.\u001b[39mopen()\n\u001b[1;32m     11\u001b[0m \u001b[38;5;66;03m#time.sleep(5)\u001b[39;00m\n\u001b[0;32m---> 12\u001b[0m \u001b[43mgform\u001b[49m\u001b[38;5;241;43m.\u001b[39;49m\u001b[43mfill_form\u001b[49m\u001b[43m(\u001b[49m\u001b[38;5;124;43m\"\u001b[39;49m\u001b[38;5;124;43mJohn Doe\u001b[39;49m\u001b[38;5;124;43m\"\u001b[39;49m\u001b[43m,\u001b[49m\u001b[43m \u001b[49m\u001b[38;5;124;43m\"\u001b[39;49m\u001b[38;5;124;43m1234567890\u001b[39;49m\u001b[38;5;124;43m\"\u001b[39;49m\u001b[43m,\u001b[49m\u001b[43m \u001b[49m\u001b[38;5;124;43m\"\u001b[39;49m\u001b[38;5;124;43mjohn.doe@example.com\u001b[39;49m\u001b[38;5;124;43m\"\u001b[39;49m\u001b[43m,\u001b[49m\u001b[43m \u001b[49m\u001b[38;5;124;43m\"\u001b[39;49m\u001b[38;5;124;43m123 Main St, City, Country\u001b[39;49m\u001b[38;5;124;43m\"\u001b[39;49m\u001b[43m,\u001b[49m\u001b[43m \u001b[49m\u001b[38;5;124;43m\"\u001b[39;49m\u001b[38;5;124;43m123456\u001b[39;49m\u001b[38;5;124;43m\"\u001b[39;49m\u001b[43m,\u001b[49m\u001b[43m \u001b[49m\u001b[38;5;124;43m\"\u001b[39;49m\u001b[38;5;124;43m24-01-1990\u001b[39;49m\u001b[38;5;124;43m\"\u001b[39;49m\u001b[43m,\u001b[49m\u001b[43m \u001b[49m\u001b[38;5;124;43m\"\u001b[39;49m\u001b[38;5;124;43mMale\u001b[39;49m\u001b[38;5;124;43m\"\u001b[39;49m\u001b[43m)\u001b[49m\n\u001b[1;32m     13\u001b[0m \u001b[38;5;66;03m#time.sleep(2)\u001b[39;00m\n\u001b[1;32m     14\u001b[0m driver\u001b[38;5;241m.\u001b[39mquit()\n",
      "Cell \u001b[0;32mIn[2], line 33\u001b[0m, in \u001b[0;36mGoogleFormPage.fill_form\u001b[0;34m(self, name, contact_number, email, address, pin_code, dob, gender)\u001b[0m\n\u001b[1;32m     29\u001b[0m captcha \u001b[38;5;241m=\u001b[39m \u001b[38;5;28mself\u001b[39m\u001b[38;5;241m.\u001b[39mdriver\u001b[38;5;241m.\u001b[39mfind_element(By\u001b[38;5;241m.\u001b[39mXPATH, \u001b[38;5;124m\"\u001b[39m\u001b[38;5;124m//input[@aria-labelledby=\u001b[39m\u001b[38;5;124m'\u001b[39m\u001b[38;5;124mi30\u001b[39m\u001b[38;5;124m'\u001b[39m\u001b[38;5;124m]\u001b[39m\u001b[38;5;124m\"\u001b[39m)\n\u001b[1;32m     31\u001b[0m \u001b[38;5;28mprint\u001b[39m(\u001b[38;5;124m\"\u001b[39m\u001b[38;5;124m----------------pass--------------\u001b[39m\u001b[38;5;124m\"\u001b[39m)\n\u001b[0;32m---> 33\u001b[0m \u001b[43mfull_name\u001b[49m\u001b[38;5;241;43m.\u001b[39;49m\u001b[43msend_keys\u001b[49m\u001b[43m(\u001b[49m\u001b[43mname\u001b[49m\u001b[43m)\u001b[49m\n\u001b[1;32m     34\u001b[0m contact_number_field\u001b[38;5;241m.\u001b[39msend_keys(contact_number)\n\u001b[1;32m     35\u001b[0m email_field\u001b[38;5;241m.\u001b[39msend_keys(email)\n",
      "File \u001b[0;32m~/.local/lib/python3.10/site-packages/selenium/webdriver/remote/webelement.py:231\u001b[0m, in \u001b[0;36mWebElement.send_keys\u001b[0;34m(self, *value)\u001b[0m\n\u001b[1;32m    228\u001b[0m             remote_files\u001b[38;5;241m.\u001b[39mappend(\u001b[38;5;28mself\u001b[39m\u001b[38;5;241m.\u001b[39m_upload(file))\n\u001b[1;32m    229\u001b[0m         value \u001b[38;5;241m=\u001b[39m \u001b[38;5;124m\"\u001b[39m\u001b[38;5;130;01m\\n\u001b[39;00m\u001b[38;5;124m\"\u001b[39m\u001b[38;5;241m.\u001b[39mjoin(remote_files)\n\u001b[0;32m--> 231\u001b[0m \u001b[38;5;28;43mself\u001b[39;49m\u001b[38;5;241;43m.\u001b[39;49m\u001b[43m_execute\u001b[49m\u001b[43m(\u001b[49m\n\u001b[1;32m    232\u001b[0m \u001b[43m    \u001b[49m\u001b[43mCommand\u001b[49m\u001b[38;5;241;43m.\u001b[39;49m\u001b[43mSEND_KEYS_TO_ELEMENT\u001b[49m\u001b[43m,\u001b[49m\u001b[43m \u001b[49m\u001b[43m{\u001b[49m\u001b[38;5;124;43m\"\u001b[39;49m\u001b[38;5;124;43mtext\u001b[39;49m\u001b[38;5;124;43m\"\u001b[39;49m\u001b[43m:\u001b[49m\u001b[43m \u001b[49m\u001b[38;5;124;43m\"\u001b[39;49m\u001b[38;5;124;43m\"\u001b[39;49m\u001b[38;5;241;43m.\u001b[39;49m\u001b[43mjoin\u001b[49m\u001b[43m(\u001b[49m\u001b[43mkeys_to_typing\u001b[49m\u001b[43m(\u001b[49m\u001b[43mvalue\u001b[49m\u001b[43m)\u001b[49m\u001b[43m)\u001b[49m\u001b[43m,\u001b[49m\u001b[43m \u001b[49m\u001b[38;5;124;43m\"\u001b[39;49m\u001b[38;5;124;43mvalue\u001b[39;49m\u001b[38;5;124;43m\"\u001b[39;49m\u001b[43m:\u001b[49m\u001b[43m \u001b[49m\u001b[43mkeys_to_typing\u001b[49m\u001b[43m(\u001b[49m\u001b[43mvalue\u001b[49m\u001b[43m)\u001b[49m\u001b[43m}\u001b[49m\n\u001b[1;32m    233\u001b[0m \u001b[43m\u001b[49m\u001b[43m)\u001b[49m\n",
      "File \u001b[0;32m~/.local/lib/python3.10/site-packages/selenium/webdriver/remote/webelement.py:395\u001b[0m, in \u001b[0;36mWebElement._execute\u001b[0;34m(self, command, params)\u001b[0m\n\u001b[1;32m    393\u001b[0m     params \u001b[38;5;241m=\u001b[39m {}\n\u001b[1;32m    394\u001b[0m params[\u001b[38;5;124m\"\u001b[39m\u001b[38;5;124mid\u001b[39m\u001b[38;5;124m\"\u001b[39m] \u001b[38;5;241m=\u001b[39m \u001b[38;5;28mself\u001b[39m\u001b[38;5;241m.\u001b[39m_id\n\u001b[0;32m--> 395\u001b[0m \u001b[38;5;28;01mreturn\u001b[39;00m \u001b[38;5;28;43mself\u001b[39;49m\u001b[38;5;241;43m.\u001b[39;49m\u001b[43m_parent\u001b[49m\u001b[38;5;241;43m.\u001b[39;49m\u001b[43mexecute\u001b[49m\u001b[43m(\u001b[49m\u001b[43mcommand\u001b[49m\u001b[43m,\u001b[49m\u001b[43m \u001b[49m\u001b[43mparams\u001b[49m\u001b[43m)\u001b[49m\n",
      "File \u001b[0;32m~/.local/lib/python3.10/site-packages/selenium/webdriver/remote/webdriver.py:354\u001b[0m, in \u001b[0;36mWebDriver.execute\u001b[0;34m(self, driver_command, params)\u001b[0m\n\u001b[1;32m    352\u001b[0m response \u001b[38;5;241m=\u001b[39m \u001b[38;5;28mself\u001b[39m\u001b[38;5;241m.\u001b[39mcommand_executor\u001b[38;5;241m.\u001b[39mexecute(driver_command, params)\n\u001b[1;32m    353\u001b[0m \u001b[38;5;28;01mif\u001b[39;00m response:\n\u001b[0;32m--> 354\u001b[0m     \u001b[38;5;28;43mself\u001b[39;49m\u001b[38;5;241;43m.\u001b[39;49m\u001b[43merror_handler\u001b[49m\u001b[38;5;241;43m.\u001b[39;49m\u001b[43mcheck_response\u001b[49m\u001b[43m(\u001b[49m\u001b[43mresponse\u001b[49m\u001b[43m)\u001b[49m\n\u001b[1;32m    355\u001b[0m     response[\u001b[38;5;124m\"\u001b[39m\u001b[38;5;124mvalue\u001b[39m\u001b[38;5;124m\"\u001b[39m] \u001b[38;5;241m=\u001b[39m \u001b[38;5;28mself\u001b[39m\u001b[38;5;241m.\u001b[39m_unwrap_value(response\u001b[38;5;241m.\u001b[39mget(\u001b[38;5;124m\"\u001b[39m\u001b[38;5;124mvalue\u001b[39m\u001b[38;5;124m\"\u001b[39m, \u001b[38;5;28;01mNone\u001b[39;00m))\n\u001b[1;32m    356\u001b[0m     \u001b[38;5;28;01mreturn\u001b[39;00m response\n",
      "File \u001b[0;32m~/.local/lib/python3.10/site-packages/selenium/webdriver/remote/errorhandler.py:229\u001b[0m, in \u001b[0;36mErrorHandler.check_response\u001b[0;34m(self, response)\u001b[0m\n\u001b[1;32m    227\u001b[0m         alert_text \u001b[38;5;241m=\u001b[39m value[\u001b[38;5;124m\"\u001b[39m\u001b[38;5;124malert\u001b[39m\u001b[38;5;124m\"\u001b[39m]\u001b[38;5;241m.\u001b[39mget(\u001b[38;5;124m\"\u001b[39m\u001b[38;5;124mtext\u001b[39m\u001b[38;5;124m\"\u001b[39m)\n\u001b[1;32m    228\u001b[0m     \u001b[38;5;28;01mraise\u001b[39;00m exception_class(message, screen, stacktrace, alert_text)  \u001b[38;5;66;03m# type: ignore[call-arg]  # mypy is not smart enough here\u001b[39;00m\n\u001b[0;32m--> 229\u001b[0m \u001b[38;5;28;01mraise\u001b[39;00m exception_class(message, screen, stacktrace)\n",
      "\u001b[0;31mElementNotInteractableException\u001b[0m: Message: element not interactable\n  (Session info: chrome-headless-shell=126.0.6478.126)\nStacktrace:\n#0 0x5916db8dbc5a <unknown>\n#1 0x5916db5bec71 <unknown>\n#2 0x5916db605418 <unknown>\n#3 0x5916db6037ff <unknown>\n#4 0x5916db62e5c2 <unknown>\n#5 0x5916db5ffad9 <unknown>\n#6 0x5916db62e78e <unknown>\n#7 0x5916db64d303 <unknown>\n#8 0x5916db62e363 <unknown>\n#9 0x5916db5fe247 <unknown>\n#10 0x5916db5feb9e <unknown>\n#11 0x5916db8a222b <unknown>\n#12 0x5916db8a62d1 <unknown>\n#13 0x5916db88dade <unknown>\n#14 0x5916db8a6e32 <unknown>\n#15 0x5916db87277f <unknown>\n#16 0x5916db8cb618 <unknown>\n#17 0x5916db8cb7f0 <unknown>\n#18 0x5916db8dad8c <unknown>\n#19 0x71a497c94ac3 <unknown>\n"
     ]
    }
   ],
   "source": [
    "a=time.time()\n",
    "test_submit_google_form()\n",
    "time.time()-a"
   ]
  },
  {
   "cell_type": "code",
   "execution_count": null,
   "id": "194f4405-a171-47d2-9aa7-aed9b2b63698",
   "metadata": {},
   "outputs": [],
   "source": []
  }
 ],
 "metadata": {
  "kernelspec": {
   "display_name": "Python 3 (ipykernel)",
   "language": "python",
   "name": "python3"
  },
  "language_info": {
   "codemirror_mode": {
    "name": "ipython",
    "version": 3
   },
   "file_extension": ".py",
   "mimetype": "text/x-python",
   "name": "python",
   "nbconvert_exporter": "python",
   "pygments_lexer": "ipython3",
   "version": "3.10.12"
  }
 },
 "nbformat": 4,
 "nbformat_minor": 5
}
