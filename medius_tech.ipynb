{
 "cells": [
  {
   "cell_type": "code",
   "execution_count": 74,
   "id": "72d68da2-a827-4ffc-9796-e6951215fe5f",
   "metadata": {},
   "outputs": [],
   "source": [
    "from selenium import webdriver\n",
    "from selenium.webdriver.common.keys import Keys\n",
    "from selenium.webdriver.common.by import By\n",
    "from selenium.webdriver.support.ui import WebDriverWait\n",
    "from selenium.webdriver.chrome.options import Options\n",
    "from selenium.webdriver.support import expected_conditions as EC\n",
    "import time"
   ]
  },
  {
   "cell_type": "code",
   "execution_count": 75,
   "id": "77603629-9788-48dc-a53c-cba3ade8b1a4",
   "metadata": {
    "scrolled": true
   },
   "outputs": [],
   "source": [
    "class GoogleFormPage:\n",
    "    def __init__(self, driver):\n",
    "        self.driver = driver\n",
    "        self.url = \"https://docs.google.com/forms/d/e/1FAIpQLSdUCd3UWQ3VOgeg0ZzNeT-xzNawU8AJ7Xidml-w1vhfBcvBWQ/viewform\"\n",
    "\n",
    "    def open(self):\n",
    "        self.driver.get(self.url)\n",
    "\n",
    "    def fill_form(self, name, contact_number, email, address, pin_code, dob, gender):\n",
    "        \n",
    "        width = self.driver.execute_script(\"return Math.max( document.body.scrollWidth, document.body.offsetWidth, document.documentElement.clientWidth, document.documentElement.scrollWidth, document.documentElement.offsetWidth );\")\n",
    "        height = self.driver.execute_script(\"return Math.max( document.body.scrollHeight, document.body.offsetHeight, document.documentElement.clientHeight, document.documentElement.scrollHeight, document.documentElement.offsetHeight );\")\n",
    "        \n",
    "        # Set the window size to match the entire webpage\n",
    "        self.driver.set_window_size(width, height)\n",
    "        \n",
    "        # Find the full page element (usually 'body') and capture the screenshot\n",
    "        full_page = self.driver.find_element(By.TAG_NAME, \"body\")\n",
    "        full_page.screenshot(\"before_filling.png\")\n",
    "        #self.driver.save_screenshot('before_filling.png')\n",
    "        \n",
    "        full_name = self.driver.find_element(By.XPATH, \"//input[@aria-labelledby='i1']\")\n",
    "        contact_number_field = self.driver.find_element(By.XPATH, \"//input[@aria-labelledby='i5']\")\n",
    "        email_field = self.driver.find_element(By.XPATH, \"//input[@aria-labelledby='i9']\")\n",
    "        full_address_field = self.driver.find_element(By.XPATH, \"//textarea[@aria-labelledby='i13']\")\n",
    "        pin_code_field = self.driver.find_element(By.XPATH, \"//input[@aria-labelledby='i17']\")\n",
    "        dob_field = self.driver.find_element(By.XPATH, \"//input[@type='date']\")\n",
    "        gender_field = self.driver.find_element(By.XPATH, \"//input[@aria-labelledby='i26']\")\n",
    "        captcha = self.driver.find_element(By.XPATH, \"//input[@aria-labelledby='i30']\")\n",
    "        \n",
    "        print(\"----------------pass--------------\")\n",
    "        \n",
    "        full_name.send_keys(name)\n",
    "        contact_number_field.send_keys(contact_number)\n",
    "        email_field.send_keys(email)\n",
    "        full_address_field.send_keys(address)\n",
    "        pin_code_field.send_keys(pin_code)\n",
    "        dob_field.send_keys(dob)\n",
    "        gender_field.send_keys(gender)\n",
    "        captcha.send_keys(\"GNFPYC\")\n",
    "\n",
    "        full_page = self.driver.find_element(By.TAG_NAME, \"body\")\n",
    "        full_page.screenshot(\"after_filling.png\")\n",
    "        #self.driver.save_screenshot('after_filling.png')\n",
    "\n",
    "        #time.sleep(3)\n",
    "        submit_button = self.driver.find_element(By.XPATH, \"//div[@aria-label='Submit']\")\n",
    "        submit_button.click()\n",
    "\n",
    "        full_page = self.driver.find_element(By.TAG_NAME, \"body\")\n",
    "        full_page.screenshot(\"after_submitting.png\")\n",
    "        #self.driver.save_screenshot('after_submitting.png')\n",
    "\n"
   ]
  },
  {
   "cell_type": "code",
   "execution_count": 72,
   "id": "4adc9a64-f1bd-406f-88b3-23df44d9e0ef",
   "metadata": {},
   "outputs": [],
   "source": [
    "def test_submit_google_form():\n",
    "    options = Options()\n",
    "    options.add_argument(\"--window-size=1920,1080\")\n",
    "    options.add_argument(\"--start-maximized\")\n",
    "    options.add_argument(\"--headless\")  # Use headless mode for running in the background\n",
    "    options.add_argument(\"--disable-gpu\")\n",
    "    driver = webdriver.Chrome(options=options)\n",
    "    driver.maximize_window()\n",
    "    gform = GoogleFormPage(driver)\n",
    "    gform.open()\n",
    "    #time.sleep(5)\n",
    "    gform.fill_form(\"John Doe\", \"1234567890\", \"john.doe@example.com\", \"123 Main St, City, Country\", \"123456\", \"24-01-1990\", \"Male\")\n",
    "    #time.sleep(2)\n",
    "    driver.quit()"
   ]
  },
  {
   "cell_type": "code",
   "execution_count": 73,
   "id": "64c76d06-e953-4930-86ce-3f028450bbc3",
   "metadata": {},
   "outputs": [
    {
     "name": "stdout",
     "output_type": "stream",
     "text": [
      "----------------pass--------------\n"
     ]
    },
    {
     "data": {
      "text/plain": [
       "23.395859479904175"
      ]
     },
     "execution_count": 73,
     "metadata": {},
     "output_type": "execute_result"
    }
   ],
   "source": [
    "a=time.time()\n",
    "test_submit_google_form()\n",
    "time.time()-a"
   ]
  },
  {
   "cell_type": "code",
   "execution_count": null,
   "id": "194f4405-a171-47d2-9aa7-aed9b2b63698",
   "metadata": {},
   "outputs": [],
   "source": []
  }
 ],
 "metadata": {
  "kernelspec": {
   "display_name": "Python 3 (ipykernel)",
   "language": "python",
   "name": "python3"
  },
  "language_info": {
   "codemirror_mode": {
    "name": "ipython",
    "version": 3
   },
   "file_extension": ".py",
   "mimetype": "text/x-python",
   "name": "python",
   "nbconvert_exporter": "python",
   "pygments_lexer": "ipython3",
   "version": "3.10.12"
  }
 },
 "nbformat": 4,
 "nbformat_minor": 5
}
